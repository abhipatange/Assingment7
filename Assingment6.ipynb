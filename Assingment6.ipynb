{
 "cells": [
  {
   "cell_type": "code",
   "execution_count": null,
   "id": "f582c715-1c48-4387-b7b7-9439cf6019b4",
   "metadata": {},
   "outputs": [],
   "source": [
    "Q1. What is an ensemble technique in machine learning?"
   ]
  },
  {
   "cell_type": "code",
   "execution_count": null,
   "id": "91308195-a892-4633-a797-2e424340c229",
   "metadata": {},
   "outputs": [],
   "source": [
    "Ans = Ensemble methods are techniques that aim at improving the accuracy of results \n",
    "in models by combining multiple models instead of using a single model.\n",
    "The combined models increase the accuracy of the results significantly.\n",
    "This has boosted the popularity of ensemble methods in machine learning."
   ]
  },
  {
   "cell_type": "code",
   "execution_count": null,
   "id": "284c5926-68fd-4e6b-8488-78733b15c38a",
   "metadata": {},
   "outputs": [],
   "source": []
  },
  {
   "cell_type": "code",
   "execution_count": null,
   "id": "ac58e234-8174-464f-9b84-a4131c44e06a",
   "metadata": {},
   "outputs": [],
   "source": [
    "Q2. Why are ensemble techniques used in machine learning?"
   ]
  },
  {
   "cell_type": "code",
   "execution_count": null,
   "id": "798ceedc-6d82-4048-aa30-69c6ec2ac640",
   "metadata": {},
   "outputs": [],
   "source": [
    "Ans = There are two main reasons to use an ensemble over a single model,\n",
    "and they are related; they are Performance.\n",
    "An ensemble can make better predictions and achieve better\n",
    "performance than any single contributing model. \n",
    "An ensemble reduces the spread or dispersion of the predictions and model performance."
   ]
  },
  {
   "cell_type": "code",
   "execution_count": null,
   "id": "1f064e65-e2ae-4672-b5db-5baf9554bcc3",
   "metadata": {},
   "outputs": [],
   "source": []
  },
  {
   "cell_type": "code",
   "execution_count": null,
   "id": "5e47326d-9604-40c5-b3fb-05adaec6b99c",
   "metadata": {},
   "outputs": [],
   "source": [
    "Q3. What is bagging?"
   ]
  },
  {
   "cell_type": "code",
   "execution_count": null,
   "id": "9045e7fa-7742-47b7-bc47-e1516120570a",
   "metadata": {},
   "outputs": [],
   "source": [
    "Ans = Ensemble machine learning can be mainly categorized into bagging and boosting.\n",
    "The bagging technique is useful for both regression and statistical classification.\n",
    "Bagging is used with decision trees, where it significantly raises the stability of\n",
    "models in improving accuracy and reducing variance, which eliminates the challenge of overfitting."
   ]
  },
  {
   "cell_type": "code",
   "execution_count": null,
   "id": "39638537-c486-441e-a6d4-caa72df7631b",
   "metadata": {},
   "outputs": [],
   "source": []
  },
  {
   "cell_type": "code",
   "execution_count": null,
   "id": "904aa654-d4ea-4868-b1cc-307d81589a32",
   "metadata": {},
   "outputs": [],
   "source": [
    "Q4. What is boosting?"
   ]
  },
  {
   "cell_type": "code",
   "execution_count": null,
   "id": "01a75828-acf0-4fc8-820d-f8eb6f003b93",
   "metadata": {},
   "outputs": [],
   "source": [
    "Ans = Boosting is an algorithm that helps in reducing variance and bias in a machine learning ensemble.\n",
    "The algorithm helps in the conversion of weak learners into strong learners by combining N number of learners."
   ]
  },
  {
   "cell_type": "code",
   "execution_count": null,
   "id": "4624079c-67d4-4896-a043-af413cea9868",
   "metadata": {},
   "outputs": [],
   "source": []
  },
  {
   "cell_type": "code",
   "execution_count": null,
   "id": "ed8c638e-0d3a-42d4-995d-f9a587393367",
   "metadata": {},
   "outputs": [],
   "source": [
    "Q5. What are the benefits of using ensemble techniques?"
   ]
  },
  {
   "cell_type": "code",
   "execution_count": null,
   "id": "091929b2-4916-4ba9-92ea-8885643bdf54",
   "metadata": {},
   "outputs": [],
   "source": [
    "Ans = Ensemble methods offer several advantages over single models,\n",
    "such as improved accuracy and performance, especially for complex and noisy problems.\n",
    "They can also reduce the risk of overfitting and underfitting by balancing the trade-off \n",
    "between bias and variance, and by using different subsets and features of the data."
   ]
  },
  {
   "cell_type": "code",
   "execution_count": null,
   "id": "0358c68d-4737-471a-abf3-59f26c0538b8",
   "metadata": {},
   "outputs": [],
   "source": []
  },
  {
   "cell_type": "code",
   "execution_count": null,
   "id": "259fd83f-b062-4d01-8b6d-a656abf944b2",
   "metadata": {},
   "outputs": [],
   "source": [
    "Q6. Are ensemble techniques always better than individual models?"
   ]
  },
  {
   "cell_type": "code",
   "execution_count": null,
   "id": "04d2e789-54f2-4f17-8e65-f897c23b3bd3",
   "metadata": {},
   "outputs": [],
   "source": [
    "Ans = There are two main reasons to use an ensemble over a single model,\n",
    "and they are related; they are.\n",
    "An ensemble can make better predictions and achieve better performance \n",
    "than any single contributing model.\n",
    "An ensemble reduces the spread or dispersion of the predictions and model performance."
   ]
  },
  {
   "cell_type": "code",
   "execution_count": null,
   "id": "b623c0ba-0dc6-4807-a8c6-c6bb5a27d7ca",
   "metadata": {},
   "outputs": [],
   "source": []
  },
  {
   "cell_type": "code",
   "execution_count": null,
   "id": "b9af23bc-0e40-44d5-b012-16dbbb9246e1",
   "metadata": {},
   "outputs": [],
   "source": [
    "Q7. How is the confidence interval calculated using bootstrap?"
   ]
  },
  {
   "cell_type": "code",
   "execution_count": null,
   "id": "1adc45dd-931e-4921-9aa7-d02bdbf6fd42",
   "metadata": {},
   "outputs": [],
   "source": [
    "Ans = Once the standard error is calculated, the confidence interval is determined by multiplying\n",
    "the standard error by a constant that reflects the level of significance desired,\n",
    "based on the normal distribution. \n",
    "The constant for 95 percent confidence intervals is 1.96."
   ]
  },
  {
   "cell_type": "code",
   "execution_count": null,
   "id": "525bc09d-96ff-4aed-bbf7-6e454e78120a",
   "metadata": {},
   "outputs": [],
   "source": []
  },
  {
   "cell_type": "code",
   "execution_count": null,
   "id": "0265997b-c365-493f-9310-edf2c7daf90c",
   "metadata": {},
   "outputs": [],
   "source": [
    "Q8. How does bootstrap work and What are the steps involved in bootstrap?"
   ]
  },
  {
   "cell_type": "code",
   "execution_count": null,
   "id": "c9e31897-b5bd-4508-8117-0a7ac029ee3d",
   "metadata": {},
   "outputs": [],
   "source": [
    "Ans = "
   ]
  }
 ],
 "metadata": {
  "kernelspec": {
   "display_name": "Python 3 (ipykernel)",
   "language": "python",
   "name": "python3"
  },
  "language_info": {
   "codemirror_mode": {
    "name": "ipython",
    "version": 3
   },
   "file_extension": ".py",
   "mimetype": "text/x-python",
   "name": "python",
   "nbconvert_exporter": "python",
   "pygments_lexer": "ipython3",
   "version": "3.10.8"
  }
 },
 "nbformat": 4,
 "nbformat_minor": 5
}
